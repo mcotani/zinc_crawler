import requests # pip install requests
from bs4 import BeautifulSoup
from time import sleep
import pandas as pd

URL="https://zinc.docking.org/substances/subsets/for-sale/?q={kw}"
page = requests.get(URL)
headers={'User-Agent': 'Mozilla/5.0 (Macintosh; Intel Mac OS X 10_14_6) AppleWebKit/537.36 (KHTML, like Gecko) Chrome/91.0.4472.164 Safari/537.36'}

