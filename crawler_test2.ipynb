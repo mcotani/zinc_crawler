{
 "metadata": {
  "language_info": {
   "codemirror_mode": {
    "name": "ipython",
    "version": 3
   },
   "file_extension": ".py",
   "mimetype": "text/x-python",
   "name": "python",
   "nbconvert_exporter": "python",
   "pygments_lexer": "ipython3",
   "version": "3.7.10"
  },
  "orig_nbformat": 2,
  "kernelspec": {
   "name": "python3",
   "display_name": "Python 3.7.10 64-bit ('conda_env': conda)"
  },
  "interpreter": {
   "hash": "9246b45af07bf2dfc3d69d84caf6e7c65e1e4e2fed6d149d5e071c50eb2534f3"
  }
 },
 "nbformat": 4,
 "nbformat_minor": 2,
 "cells": [
  {
   "cell_type": "code",
   "execution_count": 2,
   "source": [
    "import requests\n",
    "from bs4 import BeautifulSoup as bs\n",
    "from selenium import webdriver\n"
   ],
   "outputs": [],
   "metadata": {}
  },
  {
   "cell_type": "code",
   "execution_count": 85,
   "source": [
    "import re\n",
    "import pandas as pd\n",
    "import numpy as np\n",
    "from urllib.parse import quote\n",
    "\n",
    "df = pd.read_excel('BDP_Smiles_5.xlsx')\n",
    "df_id = df.iloc[:,16]\n",
    "\n",
    "driver = webdriver.Chrome('/Users/mariaclaraotani/chromedriver')\n",
    "def lookup(link):\n",
    "    t = quote(link)\n",
    "    URL=\"https://zinc.docking.org/substances/subsets/for-sale/?q=\"+t\n",
    "    driver.get(URL)\n",
    "    link = driver.find_element_by_xpath('/html/body/div/div/div/nav[1]/div/div/div[4]/div[3]/form/button')\n",
    "    link.click()\n",
    "    elems = driver.find_elements_by_partial_link_text('ZINC')\n",
    "    sString = \"substance\"\n",
    "    results = []\n",
    "    for elem in elems:\n",
    "        link = elem.get_attribute(\"href\")\n",
    "        if sString in str(link):\n",
    "            results.insert(0,link)\n",
    "    return results\n",
    "\n",
    "result = pd.Series([lookup(df_id[i]) for i in range (len(df_id))])\n",
    "results = pd.DataFrame({'ZINC': result.values.tolist()})\n",
    "df = pd.merge(df, results, right_index=True, left_index=True)\n",
    "exploded = df.explode('ZINC')\n",
    "exploded.to_excel('BDP_testttt.xlsx')\n",
    "\n"
   ],
   "outputs": [
    {
     "output_type": "stream",
     "name": "stdout",
     "text": [
      "0    [https://zinc.docking.org/substances/ZINC00005...\n",
      "1    [https://zinc.docking.org/substances/ZINC00010...\n",
      "2    [https://zinc.docking.org/substances/ZINC00001...\n",
      "dtype: object\n",
      "   Unnamed: 0  Unnamed: 0.1  Unnamed: 0.1.1   csdid      a     b      c  \\\n",
      "0           0       16140.0         16140.0  BINHUC   9.20  9.20  16.73   \n",
      "0           0       16140.0         16140.0  BINHUC   9.20  9.20  16.73   \n",
      "0           0       16140.0         16140.0  BINHUC   9.20  9.20  16.73   \n",
      "0           0       16140.0         16140.0  BINHUC   9.20  9.20  16.73   \n",
      "0           0       16140.0         16140.0  BINHUC   9.20  9.20  16.73   \n",
      "1           1       20425.0         20425.0  BUFNEY  13.62  9.21  19.14   \n",
      "1           1       20425.0         20425.0  BUFNEY  13.62  9.21  19.14   \n",
      "2           1           NaN             NaN  BUFNEY    NaN   NaN    NaN   \n",
      "2           1           NaN             NaN  BUFNEY    NaN   NaN    NaN   \n",
      "\n",
      "   alpha    beta  gamma      Mw    Z         m  plane  low energy plane  \\\n",
      "0   90.0   90.00   90.0  807.20  2.0  0.001721 -101.0            -101.0   \n",
      "0   90.0   90.00   90.0  807.20  2.0  0.001721 -101.0            -101.0   \n",
      "0   90.0   90.00   90.0  807.20  2.0  0.001721 -101.0            -101.0   \n",
      "0   90.0   90.00   90.0  807.20  2.0  0.001721 -101.0            -101.0   \n",
      "0   90.0   90.00   90.0  807.20  2.0  0.001721 -101.0            -101.0   \n",
      "1   90.0  110.49   90.0  390.36  4.0  0.001837 -100.0            -100.0   \n",
      "1   90.0  110.49   90.0  390.36  4.0  0.001837 -100.0            -100.0   \n",
      "2    NaN     NaN    NaN     NaN  NaN       NaN    NaN               NaN   \n",
      "2    NaN     NaN    NaN     NaN  NaN       NaN    NaN               NaN   \n",
      "\n",
      "   match?                                           Smile ID  \\\n",
      "0     1.0  CC1(C)O[C@@H](C(=O)O)[C@H](c2ccccc2)N1C(=O)c1c...   \n",
      "0     1.0  CC1(C)O[C@@H](C(=O)O)[C@H](c2ccccc2)N1C(=O)c1c...   \n",
      "0     1.0  CC1(C)O[C@@H](C(=O)O)[C@H](c2ccccc2)N1C(=O)c1c...   \n",
      "0     1.0  CC1(C)O[C@@H](C(=O)O)[C@H](c2ccccc2)N1C(=O)c1c...   \n",
      "0     1.0  CC1(C)O[C@@H](C(=O)O)[C@H](c2ccccc2)N1C(=O)c1c...   \n",
      "1     1.0           c1ccc(P(c2ccccc2)c2cccc(-c3ccccn3)n2)cc1   \n",
      "1     1.0           c1ccc(P(c2ccccc2)c2cccc(-c3ccccn3)n2)cc1   \n",
      "2     NaN                                               baby   \n",
      "2     NaN                                               baby   \n",
      "\n",
      "                                                ZINC  \n",
      "0  https://zinc.docking.org/substances/ZINC000056...  \n",
      "0  https://zinc.docking.org/substances/ZINC000056...  \n",
      "0  https://zinc.docking.org/substances/ZINC000056...  \n",
      "0  https://zinc.docking.org/substances/ZINC000021...  \n",
      "0                                                  1  \n",
      "1  https://zinc.docking.org/substances/ZINC000100...  \n",
      "1                                                  1  \n",
      "2  https://zinc.docking.org/substances/ZINC000012...  \n",
      "2                                                  1  \n"
     ]
    }
   ],
   "metadata": {}
  },
  {
   "cell_type": "code",
   "execution_count": 79,
   "source": [
    "import re\n",
    "import pandas as pd\n",
    "import numpy as np\n",
    "from urllib.parse import quote\n",
    "\n",
    "df = pd.read_excel('BDP_500_ZINC_MATCHES.xlsx')\n",
    "df_id = df.iloc[:,18]\n",
    "def consult(link):\n",
    "    # link = \"https://zinc.docking.org/substances/ZINC000012358719/\"\n",
    "    r = requests.get(link)\n",
    "    soup = bs(r.content)\n",
    "    counter = 0\n",
    "    formula = \"\"\n",
    "    mwt = 0\n",
    "    for table_row in soup.select(\"table tr\"):\n",
    "        cells = table_row.findAll(\"td\")\n",
    "        if len(cells) > 0:\n",
    "            if counter == 0:\n",
    "                mwt = float(cells[3].text.strip())\n",
    "                counter+=1\n",
    "            elif counter == 1:\n",
    "                formula = cells[0].text.strip()\n",
    "                counter+=1\n",
    "            else:\n",
    "                break\n",
    "    mydivs = soup.find(\"div\", {\"class\": \"panel-heading clearfix\"})\n",
    "    a = mydivs.find(\"a\", recursive=False).text.strip()\n",
    "    item = a.replace(' Items Total', '')\n",
    "    hits = int(item)\n",
    "    return formula, mwt, hits\n",
    "\n",
    "result = pd.Series([consult(df_id[i]) for i in range (len(df_id))])\n",
    "results = pd.DataFrame(result.values.tolist(), index = result.index, columns = ['formula', 'mwt','hits'])\n",
    "df = pd.merge(df, results, right_index=True, left_index=True)\n",
    "\n",
    "df.to_excel('BDP_ZINC_FINALIZADO.xlsx')\n"
   ],
   "outputs": [
    {
     "output_type": "stream",
     "name": "stdout",
     "text": [
      "0     (C19H19NO4, 325.364, 7)\n",
      "1     (C19H19NO4, 325.364, 8)\n",
      "2     (C19H19NO4, 325.364, 7)\n",
      "3    (C19H19NO4, 325.364, 34)\n",
      "4     (C22H17N2P, 340.366, 4)\n",
      "5    (C9H11NO2, 165.192, 140)\n",
      "dtype: object\n"
     ]
    }
   ],
   "metadata": {}
  }
 ]
}